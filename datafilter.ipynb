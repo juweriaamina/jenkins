{
  "nbformat": 4,
  "nbformat_minor": 0,
  "metadata": {
    "colab": {
      "provenance": [],
      "authorship_tag": "ABX9TyNUWSdYTZFzpZJin758/P4V",
      "include_colab_link": true
    },
    "kernelspec": {
      "name": "python3",
      "display_name": "Python 3"
    },
    "language_info": {
      "name": "python"
    }
  },
  "cells": [
    {
      "cell_type": "markdown",
      "metadata": {
        "id": "view-in-github",
        "colab_type": "text"
      },
      "source": [
        "<a href=\"https://colab.research.google.com/github/juweriaamina/jenkins/blob/main/datafilter.ipynb\" target=\"_parent\"><img src=\"https://colab.research.google.com/assets/colab-badge.svg\" alt=\"Open In Colab\"/></a>"
      ]
    },
    {
      "cell_type": "code",
      "source": [
        "import requests\n",
        "import csv\n",
        "\n",
        "# URLs for Channel 1 and Channel 2\n",
        "url1 = 'https://api.thingspeak.com/channels/2561136/feeds.json?api_key=0LDH7ODWRLXSWTUQ'\n",
        "url2 = 'https://api.thingspeak.com/channels/2561145/feeds.json?api_key=NL5IN3EHKM65CY8M'\n",
        "\n",
        "# Fetch data from the URLs\n",
        "response1 = requests.get(url1)\n",
        "response2 = requests.get(url2)\n",
        "\n",
        "# Convert the JSON response to dictionaries\n",
        "data1 = response1.json()\n",
        "data2 = response2.json()\n",
        "\n",
        "# Define the CSV headers based on your fields\n",
        "headers1 = [\"created_at\", \"entry_id\", \"timestamp\", \"body_temp\", \"flameValue\", \"lightIntensity\", \"pressure\", \"gas_resistance\", \"temperature\", \"humidity\"]\n",
        "headers2 = [\"created_at\", \"entry_id\", \"timestamp\", \"heartRate\", \"SP02\"]\n",
        "\n",
        "# Mapping of fieldX to actual headers for Channel 1\n",
        "field_mapping1 = {\n",
        "    \"field1\": \"timestamp\",\n",
        "    \"field2\": \"body_temp\",\n",
        "    \"field3\": \"flameValue\",\n",
        "    \"field4\": \"lightIntensity\",\n",
        "    \"field5\": \"pressure\",\n",
        "    \"field6\": \"gas_resistance\",\n",
        "    \"field7\": \"temperature\",\n",
        "    \"field8\": \"humidity\"\n",
        "}\n",
        "\n",
        "# Mapping of fieldX to actual headers for Channel 2\n",
        "field_mapping2 = {\n",
        "    \"field1\": \"timestamp\",\n",
        "    \"field2\": \"heartRate\",\n",
        "    \"field3\": \"SP02\"\n",
        "}\n",
        "\n",
        "# Write Channel 1 data to CSV\n",
        "with open('channel1_data.csv', 'w', newline='') as csvfile1:\n",
        "    writer = csv.DictWriter(csvfile1, fieldnames=headers1)\n",
        "    writer.writeheader()\n",
        "    for entry in data1['feeds']:\n",
        "        mapped_entry = {field_mapping1[key]: value for key, value in entry.items() if key in field_mapping1}\n",
        "        mapped_entry['created_at'] = entry['created_at']\n",
        "        mapped_entry['entry_id'] = entry['entry_id']\n",
        "        writer.writerow(mapped_entry)\n",
        "\n",
        "# Write Channel 2 data to CSV\n",
        "with open('channel2_data.csv', 'w', newline='') as csvfile2:\n",
        "    writer = csv.DictWriter(csvfile2, fieldnames=headers2)\n",
        "    writer.writeheader()\n",
        "    for entry in data2['feeds']:\n",
        "        mapped_entry = {field_mapping2[key]: value for key, value in entry.items() if key in field_mapping2}\n",
        "        mapped_entry['created_at'] = entry['created_at']\n",
        "        mapped_entry['entry_id'] = entry['entry_id']\n",
        "        writer.writerow(mapped_entry)\n",
        "\n",
        "print(\"Data saved to CSV files.\")\n",
        "from google.colab import files\n",
        "\n",
        "# Download the files\n",
        "files.download('channel1_data.csv')\n",
        "files.download('channel2_data.csv')\n",
        "\n"
      ],
      "metadata": {
        "colab": {
          "base_uri": "https://localhost:8080/",
          "height": 34
        },
        "id": "6B73roUMQ25u",
        "outputId": "771609e7-2792-4561-ded6-b31d50e84269"
      },
      "execution_count": 3,
      "outputs": [
        {
          "output_type": "stream",
          "name": "stdout",
          "text": [
            "Data saved to CSV files.\n"
          ]
        },
        {
          "output_type": "display_data",
          "data": {
            "text/plain": [
              "<IPython.core.display.Javascript object>"
            ],
            "application/javascript": [
              "\n",
              "    async function download(id, filename, size) {\n",
              "      if (!google.colab.kernel.accessAllowed) {\n",
              "        return;\n",
              "      }\n",
              "      const div = document.createElement('div');\n",
              "      const label = document.createElement('label');\n",
              "      label.textContent = `Downloading \"${filename}\": `;\n",
              "      div.appendChild(label);\n",
              "      const progress = document.createElement('progress');\n",
              "      progress.max = size;\n",
              "      div.appendChild(progress);\n",
              "      document.body.appendChild(div);\n",
              "\n",
              "      const buffers = [];\n",
              "      let downloaded = 0;\n",
              "\n",
              "      const channel = await google.colab.kernel.comms.open(id);\n",
              "      // Send a message to notify the kernel that we're ready.\n",
              "      channel.send({})\n",
              "\n",
              "      for await (const message of channel.messages) {\n",
              "        // Send a message to notify the kernel that we're ready.\n",
              "        channel.send({})\n",
              "        if (message.buffers) {\n",
              "          for (const buffer of message.buffers) {\n",
              "            buffers.push(buffer);\n",
              "            downloaded += buffer.byteLength;\n",
              "            progress.value = downloaded;\n",
              "          }\n",
              "        }\n",
              "      }\n",
              "      const blob = new Blob(buffers, {type: 'application/binary'});\n",
              "      const a = document.createElement('a');\n",
              "      a.href = window.URL.createObjectURL(blob);\n",
              "      a.download = filename;\n",
              "      div.appendChild(a);\n",
              "      a.click();\n",
              "      div.remove();\n",
              "    }\n",
              "  "
            ]
          },
          "metadata": {}
        },
        {
          "output_type": "display_data",
          "data": {
            "text/plain": [
              "<IPython.core.display.Javascript object>"
            ],
            "application/javascript": [
              "download(\"download_7c6024ff-ba5c-4b34-b1e2-2ca91739487d\", \"channel1_data.csv\", 10908)"
            ]
          },
          "metadata": {}
        },
        {
          "output_type": "display_data",
          "data": {
            "text/plain": [
              "<IPython.core.display.Javascript object>"
            ],
            "application/javascript": [
              "\n",
              "    async function download(id, filename, size) {\n",
              "      if (!google.colab.kernel.accessAllowed) {\n",
              "        return;\n",
              "      }\n",
              "      const div = document.createElement('div');\n",
              "      const label = document.createElement('label');\n",
              "      label.textContent = `Downloading \"${filename}\": `;\n",
              "      div.appendChild(label);\n",
              "      const progress = document.createElement('progress');\n",
              "      progress.max = size;\n",
              "      div.appendChild(progress);\n",
              "      document.body.appendChild(div);\n",
              "\n",
              "      const buffers = [];\n",
              "      let downloaded = 0;\n",
              "\n",
              "      const channel = await google.colab.kernel.comms.open(id);\n",
              "      // Send a message to notify the kernel that we're ready.\n",
              "      channel.send({})\n",
              "\n",
              "      for await (const message of channel.messages) {\n",
              "        // Send a message to notify the kernel that we're ready.\n",
              "        channel.send({})\n",
              "        if (message.buffers) {\n",
              "          for (const buffer of message.buffers) {\n",
              "            buffers.push(buffer);\n",
              "            downloaded += buffer.byteLength;\n",
              "            progress.value = downloaded;\n",
              "          }\n",
              "        }\n",
              "      }\n",
              "      const blob = new Blob(buffers, {type: 'application/binary'});\n",
              "      const a = document.createElement('a');\n",
              "      a.href = window.URL.createObjectURL(blob);\n",
              "      a.download = filename;\n",
              "      div.appendChild(a);\n",
              "      a.click();\n",
              "      div.remove();\n",
              "    }\n",
              "  "
            ]
          },
          "metadata": {}
        },
        {
          "output_type": "display_data",
          "data": {
            "text/plain": [
              "<IPython.core.display.Javascript object>"
            ],
            "application/javascript": [
              "download(\"download_2118e5f9-973d-426b-8f38-d2743dae8d42\", \"channel2_data.csv\", 4516)"
            ]
          },
          "metadata": {}
        }
      ]
    },
    {
      "cell_type": "code",
      "source": [
        "from google.colab import drive\n",
        "drive.mount('/content/drive')\n"
      ],
      "metadata": {
        "colab": {
          "base_uri": "https://localhost:8080/"
        },
        "id": "ZpXs1OREWF3v",
        "outputId": "a545efbe-9d11-4fae-ed19-5e0f09085dbf"
      },
      "execution_count": 8,
      "outputs": [
        {
          "output_type": "stream",
          "name": "stdout",
          "text": [
            "Mounted at /content/drive\n"
          ]
        }
      ]
    },
    {
      "cell_type": "code",
      "source": [
        "from google.colab import files\n",
        "uploaded = files.upload()\n"
      ],
      "metadata": {
        "colab": {
          "base_uri": "https://localhost:8080/",
          "height": 73
        },
        "id": "OKXyuvWcXkxn",
        "outputId": "1dab7024-d2e3-42bc-fe17-1d24d83f3de1"
      },
      "execution_count": 16,
      "outputs": [
        {
          "output_type": "display_data",
          "data": {
            "text/plain": [
              "<IPython.core.display.HTML object>"
            ],
            "text/html": [
              "\n",
              "     <input type=\"file\" id=\"files-06d1f375-6c51-4efc-aea9-fbf895e79a03\" name=\"files[]\" multiple disabled\n",
              "        style=\"border:none\" />\n",
              "     <output id=\"result-06d1f375-6c51-4efc-aea9-fbf895e79a03\">\n",
              "      Upload widget is only available when the cell has been executed in the\n",
              "      current browser session. Please rerun this cell to enable.\n",
              "      </output>\n",
              "      <script>// Copyright 2017 Google LLC\n",
              "//\n",
              "// Licensed under the Apache License, Version 2.0 (the \"License\");\n",
              "// you may not use this file except in compliance with the License.\n",
              "// You may obtain a copy of the License at\n",
              "//\n",
              "//      http://www.apache.org/licenses/LICENSE-2.0\n",
              "//\n",
              "// Unless required by applicable law or agreed to in writing, software\n",
              "// distributed under the License is distributed on an \"AS IS\" BASIS,\n",
              "// WITHOUT WARRANTIES OR CONDITIONS OF ANY KIND, either express or implied.\n",
              "// See the License for the specific language governing permissions and\n",
              "// limitations under the License.\n",
              "\n",
              "/**\n",
              " * @fileoverview Helpers for google.colab Python module.\n",
              " */\n",
              "(function(scope) {\n",
              "function span(text, styleAttributes = {}) {\n",
              "  const element = document.createElement('span');\n",
              "  element.textContent = text;\n",
              "  for (const key of Object.keys(styleAttributes)) {\n",
              "    element.style[key] = styleAttributes[key];\n",
              "  }\n",
              "  return element;\n",
              "}\n",
              "\n",
              "// Max number of bytes which will be uploaded at a time.\n",
              "const MAX_PAYLOAD_SIZE = 100 * 1024;\n",
              "\n",
              "function _uploadFiles(inputId, outputId) {\n",
              "  const steps = uploadFilesStep(inputId, outputId);\n",
              "  const outputElement = document.getElementById(outputId);\n",
              "  // Cache steps on the outputElement to make it available for the next call\n",
              "  // to uploadFilesContinue from Python.\n",
              "  outputElement.steps = steps;\n",
              "\n",
              "  return _uploadFilesContinue(outputId);\n",
              "}\n",
              "\n",
              "// This is roughly an async generator (not supported in the browser yet),\n",
              "// where there are multiple asynchronous steps and the Python side is going\n",
              "// to poll for completion of each step.\n",
              "// This uses a Promise to block the python side on completion of each step,\n",
              "// then passes the result of the previous step as the input to the next step.\n",
              "function _uploadFilesContinue(outputId) {\n",
              "  const outputElement = document.getElementById(outputId);\n",
              "  const steps = outputElement.steps;\n",
              "\n",
              "  const next = steps.next(outputElement.lastPromiseValue);\n",
              "  return Promise.resolve(next.value.promise).then((value) => {\n",
              "    // Cache the last promise value to make it available to the next\n",
              "    // step of the generator.\n",
              "    outputElement.lastPromiseValue = value;\n",
              "    return next.value.response;\n",
              "  });\n",
              "}\n",
              "\n",
              "/**\n",
              " * Generator function which is called between each async step of the upload\n",
              " * process.\n",
              " * @param {string} inputId Element ID of the input file picker element.\n",
              " * @param {string} outputId Element ID of the output display.\n",
              " * @return {!Iterable<!Object>} Iterable of next steps.\n",
              " */\n",
              "function* uploadFilesStep(inputId, outputId) {\n",
              "  const inputElement = document.getElementById(inputId);\n",
              "  inputElement.disabled = false;\n",
              "\n",
              "  const outputElement = document.getElementById(outputId);\n",
              "  outputElement.innerHTML = '';\n",
              "\n",
              "  const pickedPromise = new Promise((resolve) => {\n",
              "    inputElement.addEventListener('change', (e) => {\n",
              "      resolve(e.target.files);\n",
              "    });\n",
              "  });\n",
              "\n",
              "  const cancel = document.createElement('button');\n",
              "  inputElement.parentElement.appendChild(cancel);\n",
              "  cancel.textContent = 'Cancel upload';\n",
              "  const cancelPromise = new Promise((resolve) => {\n",
              "    cancel.onclick = () => {\n",
              "      resolve(null);\n",
              "    };\n",
              "  });\n",
              "\n",
              "  // Wait for the user to pick the files.\n",
              "  const files = yield {\n",
              "    promise: Promise.race([pickedPromise, cancelPromise]),\n",
              "    response: {\n",
              "      action: 'starting',\n",
              "    }\n",
              "  };\n",
              "\n",
              "  cancel.remove();\n",
              "\n",
              "  // Disable the input element since further picks are not allowed.\n",
              "  inputElement.disabled = true;\n",
              "\n",
              "  if (!files) {\n",
              "    return {\n",
              "      response: {\n",
              "        action: 'complete',\n",
              "      }\n",
              "    };\n",
              "  }\n",
              "\n",
              "  for (const file of files) {\n",
              "    const li = document.createElement('li');\n",
              "    li.append(span(file.name, {fontWeight: 'bold'}));\n",
              "    li.append(span(\n",
              "        `(${file.type || 'n/a'}) - ${file.size} bytes, ` +\n",
              "        `last modified: ${\n",
              "            file.lastModifiedDate ? file.lastModifiedDate.toLocaleDateString() :\n",
              "                                    'n/a'} - `));\n",
              "    const percent = span('0% done');\n",
              "    li.appendChild(percent);\n",
              "\n",
              "    outputElement.appendChild(li);\n",
              "\n",
              "    const fileDataPromise = new Promise((resolve) => {\n",
              "      const reader = new FileReader();\n",
              "      reader.onload = (e) => {\n",
              "        resolve(e.target.result);\n",
              "      };\n",
              "      reader.readAsArrayBuffer(file);\n",
              "    });\n",
              "    // Wait for the data to be ready.\n",
              "    let fileData = yield {\n",
              "      promise: fileDataPromise,\n",
              "      response: {\n",
              "        action: 'continue',\n",
              "      }\n",
              "    };\n",
              "\n",
              "    // Use a chunked sending to avoid message size limits. See b/62115660.\n",
              "    let position = 0;\n",
              "    do {\n",
              "      const length = Math.min(fileData.byteLength - position, MAX_PAYLOAD_SIZE);\n",
              "      const chunk = new Uint8Array(fileData, position, length);\n",
              "      position += length;\n",
              "\n",
              "      const base64 = btoa(String.fromCharCode.apply(null, chunk));\n",
              "      yield {\n",
              "        response: {\n",
              "          action: 'append',\n",
              "          file: file.name,\n",
              "          data: base64,\n",
              "        },\n",
              "      };\n",
              "\n",
              "      let percentDone = fileData.byteLength === 0 ?\n",
              "          100 :\n",
              "          Math.round((position / fileData.byteLength) * 100);\n",
              "      percent.textContent = `${percentDone}% done`;\n",
              "\n",
              "    } while (position < fileData.byteLength);\n",
              "  }\n",
              "\n",
              "  // All done.\n",
              "  yield {\n",
              "    response: {\n",
              "      action: 'complete',\n",
              "    }\n",
              "  };\n",
              "}\n",
              "\n",
              "scope.google = scope.google || {};\n",
              "scope.google.colab = scope.google.colab || {};\n",
              "scope.google.colab._files = {\n",
              "  _uploadFiles,\n",
              "  _uploadFilesContinue,\n",
              "};\n",
              "})(self);\n",
              "</script> "
            ]
          },
          "metadata": {}
        },
        {
          "output_type": "stream",
          "name": "stdout",
          "text": [
            "Saving channel2_data.csv to channel2_data (2).csv\n"
          ]
        }
      ]
    },
    {
      "cell_type": "code",
      "source": [
        "import pandas as pd\n",
        "\n",
        "# Define the file path based on the uploaded file name\n",
        "file_path = '/content/channel2_data.csv'  # Adjust if needed based on actual upload\n",
        "\n",
        "# Load the CSV file\n",
        "df = pd.read_csv(file_path)\n",
        "\n",
        "# Display the first few rows to verify\n",
        "print(df.head())\n"
      ],
      "metadata": {
        "colab": {
          "base_uri": "https://localhost:8080/"
        },
        "id": "2wzFA296ZMYj",
        "outputId": "335a4b58-c8b6-4ea3-9b6a-c6cebe82e486"
      },
      "execution_count": 18,
      "outputs": [
        {
          "output_type": "stream",
          "name": "stdout",
          "text": [
            "             created_at  entry_id   timestamp  heartRate   SP02\n",
            "0  2024-07-29T02:32:03Z       153  1722220283      250.0 -999.0\n",
            "1  2024-07-29T02:32:19Z       154  1722220299       39.0  100.0\n",
            "2  2024-07-29T02:32:37Z       155  1722220316      136.0 -999.0\n",
            "3  2024-07-29T02:32:56Z       156  1722220336       60.0  100.0\n",
            "4  2024-07-29T02:33:16Z       157  1722220355       39.0  100.0\n"
          ]
        }
      ]
    },
    {
      "cell_type": "code",
      "source": [
        "print(df.columns)\n"
      ],
      "metadata": {
        "colab": {
          "base_uri": "https://localhost:8080/"
        },
        "id": "ZSDzqUpffh5L",
        "outputId": "801f8809-a288-4439-d36e-5c8f9b736092"
      },
      "execution_count": 20,
      "outputs": [
        {
          "output_type": "stream",
          "name": "stdout",
          "text": [
            "Index(['created_at', 'entry_id', 'timestamp', 'heartRate', 'SP02'], dtype='object')\n"
          ]
        }
      ]
    },
    {
      "cell_type": "code",
      "source": [
        "import pandas as pd\n",
        "import hashlib\n",
        "\n",
        "# Sample DataFrame\n",
        "df = pd.DataFrame({\n",
        "    'created_at': ['2024-07-29T02:31:12Z', '2024-07-29T02:31:34Z'],\n",
        "    'entry_id': [1724, 1725],\n",
        "    'timestamp': ['1722220234', '1722220255'],\n",
        "    'heartRate': [72, 75],\n",
        "    'SP02': [98, 97]\n",
        "})\n",
        "\n",
        "# Define a function to hash values\n",
        "def hash_value(value):\n",
        "    return hashlib.sha256(str(value).encode()).hexdigest()\n",
        "\n",
        "# Hash sensitive columns\n",
        "df['entry_id'] = df['entry_id'].apply(hash_value)\n",
        "df['timestamp'] = df['timestamp'].apply(hash_value)\n",
        "\n",
        "# Drop sensitive columns if needed\n",
        "# If you want to keep hashed columns and drop unneeded columns\n",
        "df_anonymous = df.drop(columns=['created_at'])  # Drop columns you don't need\n",
        "\n",
        "# Display the anonymized DataFrame\n",
        "print(df_anonymous)\n"
      ],
      "metadata": {
        "colab": {
          "base_uri": "https://localhost:8080/"
        },
        "id": "cdYPdfqXg4vx",
        "outputId": "72638729-6968-4ff2-a49a-0f77c317d959"
      },
      "execution_count": 21,
      "outputs": [
        {
          "output_type": "stream",
          "name": "stdout",
          "text": [
            "                                            entry_id  \\\n",
            "0  41a5bf614853fabc117ea53b00f106bdebd914dc77bb41...   \n",
            "1  be322fb77d654ad524a7fc2d66e1dc74dde39e544b5a18...   \n",
            "\n",
            "                                           timestamp  heartRate  SP02  \n",
            "0  cc8d27b2919977ddbd317e6bc2f0bc4340b112fe60316e...         72    98  \n",
            "1  df3049e62f39a42fd868d6fdeb7bd5840bec10cc72c27e...         75    97  \n"
          ]
        }
      ]
    }
  ]
}